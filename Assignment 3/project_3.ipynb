{
 "cells": [
  {
   "cell_type": "markdown",
   "metadata": {},
   "source": [
    "# Project 3: Filtering vs wrapping\n",
    "**Updated:** 2019-06-05  \n",
    "**Author:** Anna Carlsson"
   ]
  },
  {
   "cell_type": "markdown",
   "metadata": {},
   "source": [
    "### Packages"
   ]
  },
  {
   "cell_type": "code",
   "execution_count": 1,
   "metadata": {},
   "outputs": [],
   "source": [
    "import pandas as pd  \n",
    "import numpy as np  \n",
    "import matplotlib.pyplot as plt\n",
    "import matplotlib.cm as cm\n",
    "import time\n",
    "import os\n",
    "\n",
    "from skfeature.function.similarity_based.fisher_score import fisher_score, feature_ranking\n",
    "from sklearn.model_selection import train_test_split  \n",
    "from sklearn.linear_model import LogisticRegression\n",
    "from sklearn.metrics import roc_auc_score\n",
    "from ReliefF import ReliefF\n",
    "from sklearn.ensemble import RandomForestClassifier\n",
    "from mlxtend.feature_selection import SequentialFeatureSelector as SFS\n",
    "\n",
    "%matplotlib inline\n",
    "plt.style.use('ggplot')"
   ]
  },
  {
   "cell_type": "markdown",
   "metadata": {},
   "source": [
    "### Load dataset(s)\n",
    "All datasets were generated in R using the function genRandomCluster() in the package clusterGeneration."
   ]
  },
  {
   "cell_type": "code",
   "execution_count": 2,
   "metadata": {},
   "outputs": [
    {
     "data": {
      "text/html": [
       "<div>\n",
       "<style scoped>\n",
       "    .dataframe tbody tr th:only-of-type {\n",
       "        vertical-align: middle;\n",
       "    }\n",
       "\n",
       "    .dataframe tbody tr th {\n",
       "        vertical-align: top;\n",
       "    }\n",
       "\n",
       "    .dataframe thead th {\n",
       "        text-align: right;\n",
       "    }\n",
       "</style>\n",
       "<table border=\"1\" class=\"dataframe\">\n",
       "  <thead>\n",
       "    <tr style=\"text-align: right;\">\n",
       "      <th></th>\n",
       "      <th>x1</th>\n",
       "      <th>x2</th>\n",
       "      <th>x3</th>\n",
       "      <th>x4</th>\n",
       "      <th>x5</th>\n",
       "      <th>x6</th>\n",
       "      <th>x7</th>\n",
       "      <th>x8</th>\n",
       "      <th>x9</th>\n",
       "      <th>x10</th>\n",
       "      <th>...</th>\n",
       "      <th>x91</th>\n",
       "      <th>x92</th>\n",
       "      <th>x93</th>\n",
       "      <th>x94</th>\n",
       "      <th>x95</th>\n",
       "      <th>x96</th>\n",
       "      <th>x97</th>\n",
       "      <th>x98</th>\n",
       "      <th>x99</th>\n",
       "      <th>x100</th>\n",
       "    </tr>\n",
       "  </thead>\n",
       "  <tbody>\n",
       "    <tr>\n",
       "      <th>0</th>\n",
       "      <td>1.958330</td>\n",
       "      <td>19.861963</td>\n",
       "      <td>-6.012015</td>\n",
       "      <td>19.545288</td>\n",
       "      <td>-14.682637</td>\n",
       "      <td>-5.880105</td>\n",
       "      <td>-6.898129</td>\n",
       "      <td>16.752986</td>\n",
       "      <td>-14.383706</td>\n",
       "      <td>42.202332</td>\n",
       "      <td>...</td>\n",
       "      <td>3.038125</td>\n",
       "      <td>-29.542047</td>\n",
       "      <td>-30.959290</td>\n",
       "      <td>44.791772</td>\n",
       "      <td>-7.089193</td>\n",
       "      <td>5.701090</td>\n",
       "      <td>15.747128</td>\n",
       "      <td>-17.684196</td>\n",
       "      <td>16.927795</td>\n",
       "      <td>11.423424</td>\n",
       "    </tr>\n",
       "    <tr>\n",
       "      <th>1</th>\n",
       "      <td>-3.457390</td>\n",
       "      <td>31.205427</td>\n",
       "      <td>-10.931165</td>\n",
       "      <td>1.319106</td>\n",
       "      <td>-20.803353</td>\n",
       "      <td>4.418279</td>\n",
       "      <td>-21.575963</td>\n",
       "      <td>49.185921</td>\n",
       "      <td>-22.113289</td>\n",
       "      <td>19.895249</td>\n",
       "      <td>...</td>\n",
       "      <td>-11.970413</td>\n",
       "      <td>-20.636950</td>\n",
       "      <td>19.861366</td>\n",
       "      <td>28.172920</td>\n",
       "      <td>-1.082681</td>\n",
       "      <td>-11.924020</td>\n",
       "      <td>16.827338</td>\n",
       "      <td>14.774585</td>\n",
       "      <td>15.523261</td>\n",
       "      <td>33.014669</td>\n",
       "    </tr>\n",
       "    <tr>\n",
       "      <th>2</th>\n",
       "      <td>27.574626</td>\n",
       "      <td>19.784593</td>\n",
       "      <td>3.084046</td>\n",
       "      <td>-6.864265</td>\n",
       "      <td>-0.997711</td>\n",
       "      <td>-14.051904</td>\n",
       "      <td>-5.732749</td>\n",
       "      <td>-9.403862</td>\n",
       "      <td>-2.606395</td>\n",
       "      <td>22.301271</td>\n",
       "      <td>...</td>\n",
       "      <td>10.075759</td>\n",
       "      <td>-3.459870</td>\n",
       "      <td>19.426946</td>\n",
       "      <td>1.093319</td>\n",
       "      <td>-1.228763</td>\n",
       "      <td>-2.358579</td>\n",
       "      <td>17.649700</td>\n",
       "      <td>7.498269</td>\n",
       "      <td>-24.041699</td>\n",
       "      <td>44.477716</td>\n",
       "    </tr>\n",
       "    <tr>\n",
       "      <th>3</th>\n",
       "      <td>7.038652</td>\n",
       "      <td>-9.700411</td>\n",
       "      <td>-4.069405</td>\n",
       "      <td>34.639339</td>\n",
       "      <td>-4.184004</td>\n",
       "      <td>-14.698963</td>\n",
       "      <td>3.177526</td>\n",
       "      <td>-2.885391</td>\n",
       "      <td>26.549426</td>\n",
       "      <td>-14.048913</td>\n",
       "      <td>...</td>\n",
       "      <td>24.870223</td>\n",
       "      <td>3.361145</td>\n",
       "      <td>-13.255085</td>\n",
       "      <td>-27.668114</td>\n",
       "      <td>-21.571352</td>\n",
       "      <td>21.059454</td>\n",
       "      <td>-16.297750</td>\n",
       "      <td>31.643648</td>\n",
       "      <td>19.681068</td>\n",
       "      <td>-18.825292</td>\n",
       "    </tr>\n",
       "    <tr>\n",
       "      <th>4</th>\n",
       "      <td>-15.362667</td>\n",
       "      <td>8.905572</td>\n",
       "      <td>20.116357</td>\n",
       "      <td>11.828916</td>\n",
       "      <td>24.353882</td>\n",
       "      <td>18.564939</td>\n",
       "      <td>11.151352</td>\n",
       "      <td>26.017453</td>\n",
       "      <td>-24.944461</td>\n",
       "      <td>-68.034564</td>\n",
       "      <td>...</td>\n",
       "      <td>48.565089</td>\n",
       "      <td>-1.275817</td>\n",
       "      <td>8.092226</td>\n",
       "      <td>1.931095</td>\n",
       "      <td>-33.348455</td>\n",
       "      <td>17.362939</td>\n",
       "      <td>10.650260</td>\n",
       "      <td>16.064802</td>\n",
       "      <td>11.121783</td>\n",
       "      <td>-11.507149</td>\n",
       "    </tr>\n",
       "  </tbody>\n",
       "</table>\n",
       "<p>5 rows × 100 columns</p>\n",
       "</div>"
      ],
      "text/plain": [
       "          x1         x2         x3         x4         x5         x6  \\\n",
       "0   1.958330  19.861963  -6.012015  19.545288 -14.682637  -5.880105   \n",
       "1  -3.457390  31.205427 -10.931165   1.319106 -20.803353   4.418279   \n",
       "2  27.574626  19.784593   3.084046  -6.864265  -0.997711 -14.051904   \n",
       "3   7.038652  -9.700411  -4.069405  34.639339  -4.184004 -14.698963   \n",
       "4 -15.362667   8.905572  20.116357  11.828916  24.353882  18.564939   \n",
       "\n",
       "          x7         x8         x9        x10  ...        x91        x92  \\\n",
       "0  -6.898129  16.752986 -14.383706  42.202332  ...   3.038125 -29.542047   \n",
       "1 -21.575963  49.185921 -22.113289  19.895249  ... -11.970413 -20.636950   \n",
       "2  -5.732749  -9.403862  -2.606395  22.301271  ...  10.075759  -3.459870   \n",
       "3   3.177526  -2.885391  26.549426 -14.048913  ...  24.870223   3.361145   \n",
       "4  11.151352  26.017453 -24.944461 -68.034564  ...  48.565089  -1.275817   \n",
       "\n",
       "         x93        x94        x95        x96        x97        x98  \\\n",
       "0 -30.959290  44.791772  -7.089193   5.701090  15.747128 -17.684196   \n",
       "1  19.861366  28.172920  -1.082681 -11.924020  16.827338  14.774585   \n",
       "2  19.426946   1.093319  -1.228763  -2.358579  17.649700   7.498269   \n",
       "3 -13.255085 -27.668114 -21.571352  21.059454 -16.297750  31.643648   \n",
       "4   8.092226   1.931095 -33.348455  17.362939  10.650260  16.064802   \n",
       "\n",
       "         x99       x100  \n",
       "0  16.927795  11.423424  \n",
       "1  15.523261  33.014669  \n",
       "2 -24.041699  44.477716  \n",
       "3  19.681068 -18.825292  \n",
       "4  11.121783 -11.507149  \n",
       "\n",
       "[5 rows x 100 columns]"
      ]
     },
     "execution_count": 2,
     "metadata": {},
     "output_type": "execute_result"
    }
   ],
   "source": [
    "os.chdir(\"/Users/anna/Dokument/GitHub/MVE440/Exam/Datasets/\")\n",
    "data = pd.read_csv(\"20000obs_100feat_noisy.csv\")\n",
    "labels = data[data.columns[0]]\n",
    "data = data.drop('label', axis = 1)\n",
    "data.head()"
   ]
  },
  {
   "cell_type": "markdown",
   "metadata": {},
   "source": [
    "### Split data intro training\n",
    "Throughout this project, we use logistic regression since the goal is binary classification."
   ]
  },
  {
   "cell_type": "code",
   "execution_count": 3,
   "metadata": {},
   "outputs": [],
   "source": [
    "train_features, test_features, train_labels, test_labels = train_test_split(  \n",
    "    data,\n",
    "    labels,\n",
    "    test_size=0.2)"
   ]
  },
  {
   "cell_type": "markdown",
   "metadata": {},
   "source": [
    "## Filtering methods"
   ]
  },
  {
   "cell_type": "markdown",
   "metadata": {},
   "source": [
    "### F-score"
   ]
  },
  {
   "cell_type": "code",
   "execution_count": 4,
   "metadata": {},
   "outputs": [],
   "source": [
    "# Simple implementation of F-score. Based on function fscore from the PredPsych package in R by Atesh Koul\n",
    "# and the definition of F-score given in the paper: \"Combining SVMs with Various Feature Selection Strategies#\n",
    "# by Yi-Wei Chen and Chih-Jen Lin\n",
    "\n",
    "def fscore(data,labels):\n",
    "    classes = np.unique(labels)\n",
    "    pos_set = data[labels==classes[0],]\n",
    "    neg_set = data[labels==classes[1],]\n",
    "    \n",
    "    nbr_features = data.shape[1]\n",
    "    fscore = np.arange(nbr_features, dtype=float)\n",
    "\n",
    "    for i in range(0,nbr_features):\n",
    "        fscore[i] = ((np.mean(pos_set[:,i])-np.mean(data[:,i]))**2  +  (np.mean(neg_set[:,i])-np.mean(data[:,i]))**2)/(np.var(pos_set[:,i],ddof=1)) + np.var(neg_set[:,i],ddof=1)\n",
    "    \n",
    "    return fscore"
   ]
  },
  {
   "cell_type": "code",
   "execution_count": 5,
   "metadata": {},
   "outputs": [
    {
     "name": "stdout",
     "output_type": "stream",
     "text": [
      "Runtime for f-score: 43.26071381568909\n"
     ]
    },
    {
     "data": {
      "image/png": "[encoded data removed]",
      "text/plain": [
       "<Figure size 432x288 with 1 Axes>"
      ]
     },
     "metadata": {
      "needs_background": "light"
     },
     "output_type": "display_data"
    }
   ],
   "source": [
    "data_np = data.to_numpy()\n",
    "labels_np = labels.to_numpy()\n",
    "\n",
    "start = time.time()\n",
    "score = fscore(data_np,labels_np)\n",
    "rank = np.argsort(score)\n",
    "\n",
    "N = rank.shape[0]\n",
    "fscore_auc = np.arange(N, dtype=float)\n",
    "\n",
    "for n in range(N):\n",
    "    num_features = n + 1\n",
    "    features_temp = train_features.columns[rank[0:num_features]]\n",
    "    model = LogisticRegression(solver='liblinear')\n",
    "    model.fit(train_features[features_temp], train_labels)\n",
    "    pred_temp = model.predict_proba(test_features[features_temp]) \n",
    "    auc_temp = roc_auc_score(test_labels, pred_temp[:,1])\n",
    "    fscore_auc[n] = auc_temp\n",
    "    \n",
    "stop = time.time()\n",
    "runtime = stop - start\n",
    "print('Runtime for f-score: {}'.format(runtime))\n",
    "\n",
    "plt.plot(range(N),fscore_auc);"
   ]
  },
  {
   "cell_type": "markdown",
   "metadata": {},
   "source": [
    "### Relief"
   ]
  },
  {
   "cell_type": "code",
   "execution_count": 6,
   "metadata": {},
   "outputs": [
    {
     "name": "stdout",
     "output_type": "stream",
     "text": [
      "Runtime for relief: 6879.771046876907\n"
     ]
    },
    {
     "data": {
      "image/png": "[encoded data removed]",
      "text/plain": [
       "<Figure size 432x288 with 1 Axes>"
      ]
     },
     "metadata": {
      "needs_background": "light"
     },
     "output_type": "display_data"
    }
   ],
   "source": [
    "train_features_np = train_features.to_numpy()\n",
    "train_labels_np = train_labels.to_numpy()\n",
    "test_features_np = test_features.to_numpy()\n",
    "test_labels_np = test_labels.to_numpy()\n",
    "\n",
    "start = time.time()\n",
    "\n",
    "relief_auc = np.arange(N, dtype=float)\n",
    "for n in range(N):\n",
    "    num_features = n + 1\n",
    "    fs = ReliefF(n_neighbors = 5, n_features_to_keep = num_features)\n",
    "    features_temp = fs.fit_transform(train_features_np, train_labels_np)\n",
    "    test_temp = fs.transform(test_features_np)\n",
    "    model = LogisticRegression(solver='liblinear')\n",
    "    model.fit(features_temp, train_labels_np)\n",
    "    pred_temp = model.predict_proba(test_temp) \n",
    "    auc_temp = roc_auc_score(test_labels, pred_temp[:,1])\n",
    "    relief_auc[n] = auc_temp\n",
    "    \n",
    "stop = time.time() \n",
    "runtime = stop - start\n",
    "print('Runtime for relief: {}'.format(runtime))\n",
    "\n",
    "plt.plot(range(N),relief_auc);"
   ]
  },
  {
   "cell_type": "markdown",
   "metadata": {},
   "source": [
    "### Random forests (variable importance)"
   ]
  },
  {
   "cell_type": "code",
   "execution_count": 7,
   "metadata": {},
   "outputs": [
    {
     "name": "stdout",
     "output_type": "stream",
     "text": [
      "Runtime for random forests: 106.8667140007019\n"
     ]
    },
    {
     "data": {
      "image/png": "[encoded data removed]",
      "text/plain": [
       "<Figure size 432x288 with 1 Axes>"
      ]
     },
     "metadata": {
      "needs_background": "light"
     },
     "output_type": "display_data"
    }
   ],
   "source": [
    "start = time.time()\n",
    "\n",
    "rf = RandomForestClassifier(n_estimators=300) \n",
    "rf.fit(train_features, train_labels) \n",
    "importances = rf.feature_importances_\n",
    "feature_importances = np.argsort(importances)[::-1]\n",
    "\n",
    "rf_auc = np.arange(N, dtype=float)\n",
    "for n in range(N):\n",
    "    num_features = n + 1\n",
    "    features_temp = train_features.columns[feature_importances[0:num_features]]\n",
    "    model = LogisticRegression(solver='liblinear')\n",
    "    model.fit(train_features[features_temp], train_labels)\n",
    "    pred_temp = model.predict_proba(test_features[features_temp]) \n",
    "    auc_temp = roc_auc_score(test_labels, pred_temp[:,1])\n",
    "    rf_auc[n] = auc_temp\n",
    "    \n",
    "stop = time.time() \n",
    "runtime = stop - start\n",
    "print('Runtime for random forests: {}'.format(runtime))\n",
    "\n",
    "plt.plot(range(N),rf_auc);"
   ]
  },
  {
   "cell_type": "markdown",
   "metadata": {},
   "source": [
    "## Wrapping methods"
   ]
  },
  {
   "cell_type": "markdown",
   "metadata": {},
   "source": [
    "### Forward selection"
   ]
  },
  {
   "cell_type": "code",
   "execution_count": 8,
   "metadata": {},
   "outputs": [
    {
     "name": "stdout",
     "output_type": "stream",
     "text": [
      "Runtime for forward selection: 6911.61147403717\n"
     ]
    },
    {
     "data": {
      "image/png": "[encoded data removed]",
      "text/plain": [
       "<Figure size 432x288 with 1 Axes>"
      ]
     },
     "metadata": {
      "needs_background": "light"
     },
     "output_type": "display_data"
    }
   ],
   "source": [
    "data_np = data.to_numpy()\n",
    "labels_np = labels.to_numpy()\n",
    "\n",
    "start = time.time()\n",
    "\n",
    "fs = SFS(LogisticRegression(solver='liblinear'),  \n",
    "               k_features=N,\n",
    "               forward=True,\n",
    "               verbose=0,\n",
    "               scoring='roc_auc',\n",
    "               cv=5)\n",
    "\n",
    "sel_features = fs.fit(data_np, labels_np) \n",
    "filtered_features = data.columns[list(sel_features.k_feature_idx_)]  \n",
    "    \n",
    "end = time.time()\n",
    "runtime = end - start\n",
    "print('Runtime for forward selection: {}'.format(runtime))\n",
    "\n",
    "# Save AUC scores to array\n",
    "metric = fs.get_metric_dict()\n",
    "orderedNames = list(metric.keys())\n",
    "forward_auc = np.array([list(metric[i]['avg_score'] for i in orderedNames)])\n",
    "forward_auc = forward_auc.T\n",
    "\n",
    "plt.plot(range(N),forward_auc);"
   ]
  },
  {
   "cell_type": "markdown",
   "metadata": {},
   "source": [
    "### Backward selection"
   ]
  },
  {
   "cell_type": "code",
   "execution_count": 9,
   "metadata": {},
   "outputs": [
    {
     "name": "stdout",
     "output_type": "stream",
     "text": [
      "Runtime for backward selection: 12130.293635129929\n"
     ]
    },
    {
     "data": {
      "image/png": "[encoded data removed]",
      "text/plain": [
       "<Figure size 432x288 with 1 Axes>"
      ]
     },
     "metadata": {
      "needs_background": "light"
     },
     "output_type": "display_data"
    }
   ],
   "source": [
    "start = time.time()\n",
    "\n",
    "fs = SFS(LogisticRegression(solver='liblinear'),  \n",
    "               k_features=1,\n",
    "               forward=False,\n",
    "               verbose=0,\n",
    "               scoring='roc_auc',\n",
    "               cv=5)\n",
    "\n",
    "sel_features = fs.fit(data_np, labels_np) \n",
    "filtered_features = data.columns[list(sel_features.k_feature_idx_)]  \n",
    "    \n",
    "end = time.time()\n",
    "runtime = end - start\n",
    "print('Runtime for backward selection: {}'.format(runtime))\n",
    "\n",
    "# Save AUC scores to array\n",
    "metric = fs.get_metric_dict()\n",
    "orderedNames = list(metric.keys())\n",
    "backward_auc = np.array([list(metric[i]['avg_score'] for i in orderedNames)])\n",
    "backward_auc = np.flip(backward_auc).T\n",
    "\n",
    "plt.plot(range(N),backward_auc);"
   ]
  },
  {
   "cell_type": "markdown",
   "metadata": {},
   "source": [
    "## Create plots\n",
    "Plot all AUC scores from the methods in same figure."
   ]
  },
  {
   "cell_type": "code",
   "execution_count": 10,
   "metadata": {
    "scrolled": true
   },
   "outputs": [
    {
     "data": {
      "image/png": "[encoded data removed]",
      "text/plain": [
       "<Figure size 432x288 with 1 Axes>"
      ]
     },
     "metadata": {
      "needs_background": "light"
     },
     "output_type": "display_data"
    }
   ],
   "source": [
    "lw = 1\n",
    "\n",
    "plt.figure(figsize=(6,4))\n",
    "plt.plot(range(1,N+1),fscore_auc, label='F-score', color='royalblue', linewidth=lw)\n",
    "plt.plot(range(1,N+1),relief_auc, label='Relief', color='firebrick', linewidth=lw)\n",
    "plt.plot(range(1,N+1),rf_auc,label='Random forest', color='darkorange', linewidth=lw)\n",
    "plt.plot(range(1,N+1),forward_auc,label='Forward selection', color='mediumseagreen', linewidth=lw)\n",
    "plt.plot(range(1,N+1),backward_auc,label='Backward selection', color='fuchsia',linewidth=lw)\n",
    "plt.title(r'$n=20000$, $100$ features (95 noisy)',loc='left')\n",
    "plt.xlabel('Number of features')\n",
    "plt.ylabel('AUC')\n",
    "plt.legend(loc='lower right')\n",
    "plt.grid(True)\n",
    "plt.savefig('20000obs_100fts_noisy.pdf') \n",
    "plt.show()"
   ]
  },
  {
   "cell_type": "markdown",
   "metadata": {},
   "source": [
    "## Running times\n",
    "In this section, I just save some running times for the algorithms which are compared in a plot."
   ]
  },
  {
   "cell_type": "code",
   "execution_count": 29,
   "metadata": {},
   "outputs": [],
   "source": [
    "# The order: f-score, relief, rf, forward, backward\n",
    "\n",
    "rt_1000_35 = np.array([0.4492309093475342,5.894724130630493,0.9542200565338135,17.20533800125122,27.782393217086792])\n",
    "rt_1000_35_noisy = np.array([0.3361070156097412,4.93890380859375,1.1867740154266357,18.448683977127075,31.040831089019775])\n",
    "rt_1000_100 = np.array([2.0144782066345215,24.80722713470459,3.0276148319244385,353.34461998939514,469.8920269012451])\n",
    "rt_1000_100_noisy = np.array([3.1143369674682617,25.244606018066406,3.4624791145324707,417.9607148170471,595.8921358585358])\n",
    "rt_20000_35 = np.array([5.681956052780151,1402.5066120624542,24.322164058685303,214.82762694358826,370.03309416770935])\n",
    "rt_20000_35_noisy = np.array([4.854088068008423,1303.2406568527222,27.17551326751709,279.5673921108246,474.82668924331665])\n",
    "rt_20000_100 = np.array([24.5237979888916,7753.162488698959,153.5235059261322,4616.0688490867615,8352.480587005615])\n",
    "rt_20000_100_noisy = np.array([43.26071381568909,6879.771046876907,106.8667140007019,6911.61147403717,12130.293635129929])"
   ]
  },
  {
   "cell_type": "code",
   "execution_count": 33,
   "metadata": {},
   "outputs": [
    {
     "data": {
      "image/png": "[encoded data removed]",
      "text/plain": [
       "<Figure size 432x288 with 1 Axes>"
      ]
     },
     "metadata": {
      "needs_background": "light"
     },
     "output_type": "display_data"
    }
   ],
   "source": [
    "# Plot figure for n=1000 datasets\n",
    "names = ('F-score','Relief','Random forest','Forward', 'Backward')\n",
    "\n",
    "n_groups = 5\n",
    "index = np.arange(n_groups)\n",
    "bar_width = 0.35\n",
    "plt.figure(figsize=(6,4))\n",
    "plt.bar(index,rt_1000_35,0.35);\n",
    "plt.bar(index+bar_width,rt_1000_100,0.35);\n",
    "plt.xticks(index + bar_width/2, ('F-score','Relief','Random forest','Forward', 'Backward'));\n",
    "plt.title('Running times for $n=1000$',loc='left');\n",
    "plt.ylabel('Running time (s)');\n",
    "plt.savefig('running_times_1000obs.pdf') "
   ]
  },
  {
   "cell_type": "code",
   "execution_count": 34,
   "metadata": {},
   "outputs": [
    {
     "data": {
      "image/png": "[encoded data removed]",
      "text/plain": [
       "<Figure size 432x288 with 1 Axes>"
      ]
     },
     "metadata": {
      "needs_background": "light"
     },
     "output_type": "display_data"
    }
   ],
   "source": [
    "# Plot figure for n=20000 datasets\n",
    "names = ('F-score','Relief','Random forest','Forward', 'Backward')\n",
    "\n",
    "n_groups = 5\n",
    "index = np.arange(n_groups)\n",
    "bar_width = 0.35\n",
    "plt.figure(figsize=(6,4));\n",
    "plt.bar(index,rt_20000_35,0.35);\n",
    "plt.bar(index+bar_width,rt_20000_100,0.35);\n",
    "plt.xticks(index + bar_width/2, ('F-score','Relief','Random forest','Forward', 'Backward'));\n",
    "plt.title('Running times for $n=20000$',loc='left');\n",
    "plt.ylabel('Running time (s)');\n",
    "plt.savefig('running_times_20000obs.pdf') "
   ]
  }
 ],
 "metadata": {
  "kernelspec": {
   "display_name": "Python 3",
   "language": "python",
   "name": "python3"
  },
  "language_info": {
   "codemirror_mode": {
    "name": "ipython",
    "version": 3
   },
   "file_extension": ".py",
   "mimetype": "text/x-python",
   "name": "python",
   "nbconvert_exporter": "python",
   "pygments_lexer": "ipython3",
   "version": "3.7.1"
  }
 },
 "nbformat": 4,
 "nbformat_minor": 2
}
