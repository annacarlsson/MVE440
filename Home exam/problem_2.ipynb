{
 "cells": [
  {
   "cell_type": "markdown",
   "metadata": {},
   "source": [
    "# Problem 2: High-dimensional clustering\n",
    "**Updated:** 2019-06-10  \n",
    "**Author:** Anna Carlsson"
   ]
  },
  {
   "cell_type": "code",
   "execution_count": 1,
   "metadata": {},
   "outputs": [],
   "source": [
    "import pandas as pd  \n",
    "import numpy as np  \n",
    "import matplotlib.pyplot as plt\n",
    "import matplotlib.cm as cm\n",
    "import seaborn as sns\n",
    "import os\n",
    "\n",
    "from pyclustering.cluster.clique import clique, clique_visualizer\n",
    "\n",
    "%matplotlib inline\n",
    "plt.style.use('ggplot')\n",
    "os.chdir(\"/Users/anna/Dokument/GitHub/MVE440/Exam/Datasets/\")"
   ]
  },
  {
   "cell_type": "markdown",
   "metadata": {},
   "source": [
    "### Load data"
   ]
  },
  {
   "cell_type": "code",
   "execution_count": 3,
   "metadata": {},
   "outputs": [
    {
     "name": "stdout",
     "output_type": "stream",
     "text": [
      "229\n"
     ]
    }
   ],
   "source": [
    "data = np.load(\"exercise2.npz\")\n",
    "X = np.array(data['X'])\n",
    "data.close()\n",
    "N = np.shape(X)[0]"
   ]
  },
  {
   "cell_type": "markdown",
   "metadata": {},
   "source": [
    "### CLIQUE"
   ]
  },
  {
   "cell_type": "code",
   "execution_count": 14,
   "metadata": {},
   "outputs": [],
   "source": [
    "intervals = 10\n",
    "threshold = 2\n",
    "\n",
    "\n",
    "for i in range(0,150):\n",
    "    for j in range(0,150):\n",
    "        clique_instance = clique(np.ndarray.tolist(X), intervals, threshold)\n",
    "        clique_instance.process()\n",
    "        clusters = clique_instance.get_clusters()  \n",
    "        if (len(clusters)!=0):\n",
    "            print(len(clusters))\n",
    "\n",
    "noise = clique_instance.get_noise() \n",
    "cells = clique_instance.get_cells()\n",
    "#print(noise)\n",
    "#print(cells)\n",
    "#clique_visualizer.show_grid(cells, data) \n",
    "#clique_visualizer.show_clusters(data, clusters, noise) "
   ]
  }
 ],
 "metadata": {
  "kernelspec": {
   "display_name": "Python 3",
   "language": "python",
   "name": "python3"
  },
  "language_info": {
   "codemirror_mode": {
    "name": "ipython",
    "version": 3
   },
   "file_extension": ".py",
   "mimetype": "text/x-python",
   "name": "python",
   "nbconvert_exporter": "python",
   "pygments_lexer": "ipython3",
   "version": "3.7.1"
  }
 },
 "nbformat": 4,
 "nbformat_minor": 2
}
